{
 "cells": [
  {
   "cell_type": "code",
   "execution_count": 1,
   "id": "da4327a7",
   "metadata": {},
   "outputs": [],
   "source": [
    "import pandas as pd\n",
    "import numpy as np\n",
    "import matplotlib.pyplot as plt\n",
    "%matplotlib inline\n",
    "import seaborn as sns\n",
    "from sklearn import preprocessing\n",
    "from sklearn.model_selection import train_test_split\n",
    "from sklearn.metrics import confusion_matrix,classification_report,roc_auc_score,roc_curve,plot_confusion_matrix\n",
    "from sklearn.tree import DecisionTreeClassifier\n",
    "from sklearn import tree"
   ]
  },
  {
   "cell_type": "code",
   "execution_count": 2,
   "id": "abfef940",
   "metadata": {},
   "outputs": [
    {
     "data": {
      "text/html": [
       "<div>\n",
       "<style scoped>\n",
       "    .dataframe tbody tr th:only-of-type {\n",
       "        vertical-align: middle;\n",
       "    }\n",
       "\n",
       "    .dataframe tbody tr th {\n",
       "        vertical-align: top;\n",
       "    }\n",
       "\n",
       "    .dataframe thead th {\n",
       "        text-align: right;\n",
       "    }\n",
       "</style>\n",
       "<table border=\"1\" class=\"dataframe\">\n",
       "  <thead>\n",
       "    <tr style=\"text-align: right;\">\n",
       "      <th></th>\n",
       "      <th>PassengerId</th>\n",
       "      <th>Survived</th>\n",
       "      <th>Pclass</th>\n",
       "      <th>Name</th>\n",
       "      <th>Sex</th>\n",
       "      <th>Age</th>\n",
       "      <th>SibSp</th>\n",
       "      <th>Parch</th>\n",
       "      <th>Ticket</th>\n",
       "      <th>Fare</th>\n",
       "      <th>Cabin</th>\n",
       "      <th>Embarked</th>\n",
       "    </tr>\n",
       "  </thead>\n",
       "  <tbody>\n",
       "    <tr>\n",
       "      <th>0</th>\n",
       "      <td>1</td>\n",
       "      <td>0</td>\n",
       "      <td>3</td>\n",
       "      <td>Braund, Mr. Owen Harris</td>\n",
       "      <td>male</td>\n",
       "      <td>22.0</td>\n",
       "      <td>1</td>\n",
       "      <td>0</td>\n",
       "      <td>A/5 21171</td>\n",
       "      <td>7.2500</td>\n",
       "      <td>NaN</td>\n",
       "      <td>S</td>\n",
       "    </tr>\n",
       "    <tr>\n",
       "      <th>1</th>\n",
       "      <td>2</td>\n",
       "      <td>1</td>\n",
       "      <td>1</td>\n",
       "      <td>Cumings, Mrs. John Bradley (Florence Briggs Th...</td>\n",
       "      <td>female</td>\n",
       "      <td>38.0</td>\n",
       "      <td>1</td>\n",
       "      <td>0</td>\n",
       "      <td>PC 17599</td>\n",
       "      <td>71.2833</td>\n",
       "      <td>C85</td>\n",
       "      <td>C</td>\n",
       "    </tr>\n",
       "    <tr>\n",
       "      <th>2</th>\n",
       "      <td>3</td>\n",
       "      <td>1</td>\n",
       "      <td>3</td>\n",
       "      <td>Heikkinen, Miss. Laina</td>\n",
       "      <td>female</td>\n",
       "      <td>26.0</td>\n",
       "      <td>0</td>\n",
       "      <td>0</td>\n",
       "      <td>STON/O2. 3101282</td>\n",
       "      <td>7.9250</td>\n",
       "      <td>NaN</td>\n",
       "      <td>S</td>\n",
       "    </tr>\n",
       "    <tr>\n",
       "      <th>3</th>\n",
       "      <td>4</td>\n",
       "      <td>1</td>\n",
       "      <td>1</td>\n",
       "      <td>Futrelle, Mrs. Jacques Heath (Lily May Peel)</td>\n",
       "      <td>female</td>\n",
       "      <td>35.0</td>\n",
       "      <td>1</td>\n",
       "      <td>0</td>\n",
       "      <td>113803</td>\n",
       "      <td>53.1000</td>\n",
       "      <td>C123</td>\n",
       "      <td>S</td>\n",
       "    </tr>\n",
       "    <tr>\n",
       "      <th>4</th>\n",
       "      <td>5</td>\n",
       "      <td>0</td>\n",
       "      <td>3</td>\n",
       "      <td>Allen, Mr. William Henry</td>\n",
       "      <td>male</td>\n",
       "      <td>35.0</td>\n",
       "      <td>0</td>\n",
       "      <td>0</td>\n",
       "      <td>373450</td>\n",
       "      <td>8.0500</td>\n",
       "      <td>NaN</td>\n",
       "      <td>S</td>\n",
       "    </tr>\n",
       "  </tbody>\n",
       "</table>\n",
       "</div>"
      ],
      "text/plain": [
       "   PassengerId  Survived  Pclass  \\\n",
       "0            1         0       3   \n",
       "1            2         1       1   \n",
       "2            3         1       3   \n",
       "3            4         1       1   \n",
       "4            5         0       3   \n",
       "\n",
       "                                                Name     Sex   Age  SibSp  \\\n",
       "0                            Braund, Mr. Owen Harris    male  22.0      1   \n",
       "1  Cumings, Mrs. John Bradley (Florence Briggs Th...  female  38.0      1   \n",
       "2                             Heikkinen, Miss. Laina  female  26.0      0   \n",
       "3       Futrelle, Mrs. Jacques Heath (Lily May Peel)  female  35.0      1   \n",
       "4                           Allen, Mr. William Henry    male  35.0      0   \n",
       "\n",
       "   Parch            Ticket     Fare Cabin Embarked  \n",
       "0      0         A/5 21171   7.2500   NaN        S  \n",
       "1      0          PC 17599  71.2833   C85        C  \n",
       "2      0  STON/O2. 3101282   7.9250   NaN        S  \n",
       "3      0            113803  53.1000  C123        S  \n",
       "4      0            373450   8.0500   NaN        S  "
      ]
     },
     "execution_count": 2,
     "metadata": {},
     "output_type": "execute_result"
    }
   ],
   "source": [
    "data = pd.read_csv(\"https://raw.githubusercontent.com/BigDataGal/Python-for-Data-Science/master/titanic-train.csv\")\n",
    "data.head()"
   ]
  },
  {
   "cell_type": "code",
   "execution_count": 3,
   "id": "5f854867",
   "metadata": {},
   "outputs": [],
   "source": [
    "df = data"
   ]
  },
  {
   "cell_type": "code",
   "execution_count": 4,
   "id": "12d72305",
   "metadata": {},
   "outputs": [
    {
     "data": {
      "text/plain": [
       "(891, 12)"
      ]
     },
     "execution_count": 4,
     "metadata": {},
     "output_type": "execute_result"
    }
   ],
   "source": [
    "df.shape"
   ]
  },
  {
   "cell_type": "code",
   "execution_count": 5,
   "id": "1b3556dd",
   "metadata": {},
   "outputs": [
    {
     "data": {
      "text/plain": [
       "0"
      ]
     },
     "execution_count": 5,
     "metadata": {},
     "output_type": "execute_result"
    }
   ],
   "source": [
    "df.duplicated().sum()"
   ]
  },
  {
   "cell_type": "code",
   "execution_count": 6,
   "id": "87a7a8dd",
   "metadata": {},
   "outputs": [
    {
     "name": "stdout",
     "output_type": "stream",
     "text": [
      "<class 'pandas.core.frame.DataFrame'>\n",
      "RangeIndex: 891 entries, 0 to 890\n",
      "Data columns (total 12 columns):\n",
      " #   Column       Non-Null Count  Dtype  \n",
      "---  ------       --------------  -----  \n",
      " 0   PassengerId  891 non-null    int64  \n",
      " 1   Survived     891 non-null    int64  \n",
      " 2   Pclass       891 non-null    int64  \n",
      " 3   Name         891 non-null    object \n",
      " 4   Sex          891 non-null    object \n",
      " 5   Age          714 non-null    float64\n",
      " 6   SibSp        891 non-null    int64  \n",
      " 7   Parch        891 non-null    int64  \n",
      " 8   Ticket       891 non-null    object \n",
      " 9   Fare         891 non-null    float64\n",
      " 10  Cabin        204 non-null    object \n",
      " 11  Embarked     889 non-null    object \n",
      "dtypes: float64(2), int64(5), object(5)\n",
      "memory usage: 83.7+ KB\n"
     ]
    }
   ],
   "source": [
    "df.info()"
   ]
  },
  {
   "cell_type": "code",
   "execution_count": 7,
   "id": "10ab5f69",
   "metadata": {},
   "outputs": [
    {
     "data": {
      "text/html": [
       "<div>\n",
       "<style scoped>\n",
       "    .dataframe tbody tr th:only-of-type {\n",
       "        vertical-align: middle;\n",
       "    }\n",
       "\n",
       "    .dataframe tbody tr th {\n",
       "        vertical-align: top;\n",
       "    }\n",
       "\n",
       "    .dataframe thead th {\n",
       "        text-align: right;\n",
       "    }\n",
       "</style>\n",
       "<table border=\"1\" class=\"dataframe\">\n",
       "  <thead>\n",
       "    <tr style=\"text-align: right;\">\n",
       "      <th></th>\n",
       "      <th>count</th>\n",
       "      <th>mean</th>\n",
       "      <th>std</th>\n",
       "      <th>min</th>\n",
       "      <th>25%</th>\n",
       "      <th>50%</th>\n",
       "      <th>75%</th>\n",
       "      <th>max</th>\n",
       "    </tr>\n",
       "  </thead>\n",
       "  <tbody>\n",
       "    <tr>\n",
       "      <th>PassengerId</th>\n",
       "      <td>891.0</td>\n",
       "      <td>446.0</td>\n",
       "      <td>257.0</td>\n",
       "      <td>1.0</td>\n",
       "      <td>224.0</td>\n",
       "      <td>446.0</td>\n",
       "      <td>668.0</td>\n",
       "      <td>891.0</td>\n",
       "    </tr>\n",
       "    <tr>\n",
       "      <th>Survived</th>\n",
       "      <td>891.0</td>\n",
       "      <td>0.0</td>\n",
       "      <td>0.0</td>\n",
       "      <td>0.0</td>\n",
       "      <td>0.0</td>\n",
       "      <td>0.0</td>\n",
       "      <td>1.0</td>\n",
       "      <td>1.0</td>\n",
       "    </tr>\n",
       "    <tr>\n",
       "      <th>Pclass</th>\n",
       "      <td>891.0</td>\n",
       "      <td>2.0</td>\n",
       "      <td>1.0</td>\n",
       "      <td>1.0</td>\n",
       "      <td>2.0</td>\n",
       "      <td>3.0</td>\n",
       "      <td>3.0</td>\n",
       "      <td>3.0</td>\n",
       "    </tr>\n",
       "    <tr>\n",
       "      <th>Age</th>\n",
       "      <td>714.0</td>\n",
       "      <td>30.0</td>\n",
       "      <td>15.0</td>\n",
       "      <td>0.0</td>\n",
       "      <td>20.0</td>\n",
       "      <td>28.0</td>\n",
       "      <td>38.0</td>\n",
       "      <td>80.0</td>\n",
       "    </tr>\n",
       "    <tr>\n",
       "      <th>SibSp</th>\n",
       "      <td>891.0</td>\n",
       "      <td>1.0</td>\n",
       "      <td>1.0</td>\n",
       "      <td>0.0</td>\n",
       "      <td>0.0</td>\n",
       "      <td>0.0</td>\n",
       "      <td>1.0</td>\n",
       "      <td>8.0</td>\n",
       "    </tr>\n",
       "    <tr>\n",
       "      <th>Parch</th>\n",
       "      <td>891.0</td>\n",
       "      <td>0.0</td>\n",
       "      <td>1.0</td>\n",
       "      <td>0.0</td>\n",
       "      <td>0.0</td>\n",
       "      <td>0.0</td>\n",
       "      <td>0.0</td>\n",
       "      <td>6.0</td>\n",
       "    </tr>\n",
       "    <tr>\n",
       "      <th>Fare</th>\n",
       "      <td>891.0</td>\n",
       "      <td>32.0</td>\n",
       "      <td>50.0</td>\n",
       "      <td>0.0</td>\n",
       "      <td>8.0</td>\n",
       "      <td>14.0</td>\n",
       "      <td>31.0</td>\n",
       "      <td>512.0</td>\n",
       "    </tr>\n",
       "  </tbody>\n",
       "</table>\n",
       "</div>"
      ],
      "text/plain": [
       "             count   mean    std  min    25%    50%    75%    max\n",
       "PassengerId  891.0  446.0  257.0  1.0  224.0  446.0  668.0  891.0\n",
       "Survived     891.0    0.0    0.0  0.0    0.0    0.0    1.0    1.0\n",
       "Pclass       891.0    2.0    1.0  1.0    2.0    3.0    3.0    3.0\n",
       "Age          714.0   30.0   15.0  0.0   20.0   28.0   38.0   80.0\n",
       "SibSp        891.0    1.0    1.0  0.0    0.0    0.0    1.0    8.0\n",
       "Parch        891.0    0.0    1.0  0.0    0.0    0.0    0.0    6.0\n",
       "Fare         891.0   32.0   50.0  0.0    8.0   14.0   31.0  512.0"
      ]
     },
     "execution_count": 7,
     "metadata": {},
     "output_type": "execute_result"
    }
   ],
   "source": [
    "df.describe().T.round(0)"
   ]
  },
  {
   "cell_type": "code",
   "execution_count": 8,
   "id": "da8705aa",
   "metadata": {},
   "outputs": [
    {
     "data": {
      "text/plain": [
       "PassengerId      0\n",
       "Survived         0\n",
       "Pclass           0\n",
       "Name             0\n",
       "Sex              0\n",
       "Age            177\n",
       "SibSp            0\n",
       "Parch            0\n",
       "Ticket           0\n",
       "Fare             0\n",
       "Cabin          687\n",
       "Embarked         2\n",
       "dtype: int64"
      ]
     },
     "execution_count": 8,
     "metadata": {},
     "output_type": "execute_result"
    }
   ],
   "source": [
    "df.isnull().sum()"
   ]
  },
  {
   "cell_type": "code",
   "execution_count": 9,
   "id": "74837591",
   "metadata": {},
   "outputs": [
    {
     "data": {
      "text/plain": [
       "177"
      ]
     },
     "execution_count": 9,
     "metadata": {},
     "output_type": "execute_result"
    }
   ],
   "source": [
    "df['Age'].isna().sum()"
   ]
  },
  {
   "cell_type": "code",
   "execution_count": 10,
   "id": "bcb2e135",
   "metadata": {},
   "outputs": [],
   "source": [
    "df['Age']=df['Age'].fillna(df['Age'].median())"
   ]
  },
  {
   "cell_type": "code",
   "execution_count": 11,
   "id": "3c33d5eb",
   "metadata": {},
   "outputs": [
    {
     "data": {
      "text/plain": [
       "0"
      ]
     },
     "execution_count": 11,
     "metadata": {},
     "output_type": "execute_result"
    }
   ],
   "source": [
    "df['Age'].isnull().sum()"
   ]
  },
  {
   "cell_type": "code",
   "execution_count": 12,
   "id": "b890c614",
   "metadata": {},
   "outputs": [
    {
     "data": {
      "text/plain": [
       "array([22.  , 38.  , 26.  , 35.  , 28.  , 54.  ,  2.  , 27.  , 14.  ,\n",
       "        4.  , 58.  , 20.  , 39.  , 55.  , 31.  , 34.  , 15.  ,  8.  ,\n",
       "       19.  , 40.  , 66.  , 42.  , 21.  , 18.  ,  3.  ,  7.  , 49.  ,\n",
       "       29.  , 65.  , 28.5 ,  5.  , 11.  , 45.  , 17.  , 32.  , 16.  ,\n",
       "       25.  ,  0.83, 30.  , 33.  , 23.  , 24.  , 46.  , 59.  , 71.  ,\n",
       "       37.  , 47.  , 14.5 , 70.5 , 32.5 , 12.  ,  9.  , 36.5 , 51.  ,\n",
       "       55.5 , 40.5 , 44.  ,  1.  , 61.  , 56.  , 50.  , 36.  , 45.5 ,\n",
       "       20.5 , 62.  , 41.  , 52.  , 63.  , 23.5 ,  0.92, 43.  , 60.  ,\n",
       "       10.  , 64.  , 13.  , 48.  ,  0.75, 53.  , 57.  , 80.  , 70.  ,\n",
       "       24.5 ,  6.  ,  0.67, 30.5 ,  0.42, 34.5 , 74.  ])"
      ]
     },
     "execution_count": 12,
     "metadata": {},
     "output_type": "execute_result"
    }
   ],
   "source": [
    "df['Age'].unique()"
   ]
  },
  {
   "cell_type": "code",
   "execution_count": 13,
   "id": "3475fe10",
   "metadata": {},
   "outputs": [
    {
     "data": {
      "text/plain": [
       "891"
      ]
     },
     "execution_count": 13,
     "metadata": {},
     "output_type": "execute_result"
    }
   ],
   "source": [
    "df['Age'].count()"
   ]
  },
  {
   "cell_type": "code",
   "execution_count": 14,
   "id": "6be2572a",
   "metadata": {},
   "outputs": [
    {
     "data": {
      "text/plain": [
       "Index(['PassengerId', 'Survived', 'Pclass', 'Name', 'Sex', 'Age', 'SibSp',\n",
       "       'Parch', 'Ticket', 'Fare', 'Cabin', 'Embarked'],\n",
       "      dtype='object')"
      ]
     },
     "execution_count": 14,
     "metadata": {},
     "output_type": "execute_result"
    }
   ],
   "source": [
    "df.columns"
   ]
  },
  {
   "cell_type": "code",
   "execution_count": 15,
   "id": "cc474632",
   "metadata": {},
   "outputs": [],
   "source": [
    "df.drop(['PassengerId','Name','Ticket','Cabin','Embarked'],axis=1,inplace=True)"
   ]
  },
  {
   "cell_type": "code",
   "execution_count": 16,
   "id": "05297f54",
   "metadata": {},
   "outputs": [
    {
     "data": {
      "text/html": [
       "<div>\n",
       "<style scoped>\n",
       "    .dataframe tbody tr th:only-of-type {\n",
       "        vertical-align: middle;\n",
       "    }\n",
       "\n",
       "    .dataframe tbody tr th {\n",
       "        vertical-align: top;\n",
       "    }\n",
       "\n",
       "    .dataframe thead th {\n",
       "        text-align: right;\n",
       "    }\n",
       "</style>\n",
       "<table border=\"1\" class=\"dataframe\">\n",
       "  <thead>\n",
       "    <tr style=\"text-align: right;\">\n",
       "      <th></th>\n",
       "      <th>Survived</th>\n",
       "      <th>Pclass</th>\n",
       "      <th>Sex</th>\n",
       "      <th>Age</th>\n",
       "      <th>SibSp</th>\n",
       "      <th>Parch</th>\n",
       "      <th>Fare</th>\n",
       "    </tr>\n",
       "  </thead>\n",
       "  <tbody>\n",
       "    <tr>\n",
       "      <th>0</th>\n",
       "      <td>0</td>\n",
       "      <td>3</td>\n",
       "      <td>male</td>\n",
       "      <td>22.0</td>\n",
       "      <td>1</td>\n",
       "      <td>0</td>\n",
       "      <td>7.2500</td>\n",
       "    </tr>\n",
       "    <tr>\n",
       "      <th>1</th>\n",
       "      <td>1</td>\n",
       "      <td>1</td>\n",
       "      <td>female</td>\n",
       "      <td>38.0</td>\n",
       "      <td>1</td>\n",
       "      <td>0</td>\n",
       "      <td>71.2833</td>\n",
       "    </tr>\n",
       "    <tr>\n",
       "      <th>2</th>\n",
       "      <td>1</td>\n",
       "      <td>3</td>\n",
       "      <td>female</td>\n",
       "      <td>26.0</td>\n",
       "      <td>0</td>\n",
       "      <td>0</td>\n",
       "      <td>7.9250</td>\n",
       "    </tr>\n",
       "  </tbody>\n",
       "</table>\n",
       "</div>"
      ],
      "text/plain": [
       "   Survived  Pclass     Sex   Age  SibSp  Parch     Fare\n",
       "0         0       3    male  22.0      1      0   7.2500\n",
       "1         1       1  female  38.0      1      0  71.2833\n",
       "2         1       3  female  26.0      0      0   7.9250"
      ]
     },
     "execution_count": 16,
     "metadata": {},
     "output_type": "execute_result"
    }
   ],
   "source": [
    "df.head(3)"
   ]
  },
  {
   "cell_type": "code",
   "execution_count": 17,
   "id": "6fc233d6",
   "metadata": {},
   "outputs": [
    {
     "data": {
      "text/plain": [
       "Survived      int64\n",
       "Pclass        int64\n",
       "Sex          object\n",
       "Age         float64\n",
       "SibSp         int64\n",
       "Parch         int64\n",
       "Fare        float64\n",
       "dtype: object"
      ]
     },
     "execution_count": 17,
     "metadata": {},
     "output_type": "execute_result"
    }
   ],
   "source": [
    "df.dtypes"
   ]
  },
  {
   "cell_type": "code",
   "execution_count": 18,
   "id": "b7d798e0",
   "metadata": {},
   "outputs": [
    {
     "data": {
      "text/plain": [
       "0"
      ]
     },
     "execution_count": 18,
     "metadata": {},
     "output_type": "execute_result"
    }
   ],
   "source": [
    "(df['Age']==0).sum()"
   ]
  },
  {
   "cell_type": "code",
   "execution_count": 19,
   "id": "95952ab1",
   "metadata": {},
   "outputs": [],
   "source": [
    "df['Sex']=pd.Categorical(df['Sex']).codes"
   ]
  },
  {
   "cell_type": "code",
   "execution_count": 20,
   "id": "9e0fe18a",
   "metadata": {},
   "outputs": [
    {
     "data": {
      "text/plain": [
       "Survived      int64\n",
       "Pclass        int64\n",
       "Sex            int8\n",
       "Age         float64\n",
       "SibSp         int64\n",
       "Parch         int64\n",
       "Fare        float64\n",
       "dtype: object"
      ]
     },
     "execution_count": 20,
     "metadata": {},
     "output_type": "execute_result"
    }
   ],
   "source": [
    "df.dtypes"
   ]
  },
  {
   "cell_type": "code",
   "execution_count": 21,
   "id": "948b0a85",
   "metadata": {},
   "outputs": [
    {
     "data": {
      "text/plain": [
       "0    549\n",
       "1    342\n",
       "Name: Survived, dtype: int64"
      ]
     },
     "execution_count": 21,
     "metadata": {},
     "output_type": "execute_result"
    }
   ],
   "source": [
    "df['Survived'].value_counts()"
   ]
  },
  {
   "cell_type": "code",
   "execution_count": 22,
   "id": "5de0cb42",
   "metadata": {},
   "outputs": [],
   "source": [
    "X=df.drop('Survived',axis=1)\n",
    "y=df.pop('Survived')"
   ]
  },
  {
   "cell_type": "code",
   "execution_count": 23,
   "id": "a40f91c0",
   "metadata": {},
   "outputs": [
    {
     "data": {
      "text/html": [
       "<div>\n",
       "<style scoped>\n",
       "    .dataframe tbody tr th:only-of-type {\n",
       "        vertical-align: middle;\n",
       "    }\n",
       "\n",
       "    .dataframe tbody tr th {\n",
       "        vertical-align: top;\n",
       "    }\n",
       "\n",
       "    .dataframe thead th {\n",
       "        text-align: right;\n",
       "    }\n",
       "</style>\n",
       "<table border=\"1\" class=\"dataframe\">\n",
       "  <thead>\n",
       "    <tr style=\"text-align: right;\">\n",
       "      <th></th>\n",
       "      <th>Pclass</th>\n",
       "      <th>Sex</th>\n",
       "      <th>Age</th>\n",
       "      <th>SibSp</th>\n",
       "      <th>Parch</th>\n",
       "      <th>Fare</th>\n",
       "    </tr>\n",
       "  </thead>\n",
       "  <tbody>\n",
       "    <tr>\n",
       "      <th>0</th>\n",
       "      <td>3</td>\n",
       "      <td>1</td>\n",
       "      <td>22.0</td>\n",
       "      <td>1</td>\n",
       "      <td>0</td>\n",
       "      <td>7.2500</td>\n",
       "    </tr>\n",
       "    <tr>\n",
       "      <th>1</th>\n",
       "      <td>1</td>\n",
       "      <td>0</td>\n",
       "      <td>38.0</td>\n",
       "      <td>1</td>\n",
       "      <td>0</td>\n",
       "      <td>71.2833</td>\n",
       "    </tr>\n",
       "    <tr>\n",
       "      <th>2</th>\n",
       "      <td>3</td>\n",
       "      <td>0</td>\n",
       "      <td>26.0</td>\n",
       "      <td>0</td>\n",
       "      <td>0</td>\n",
       "      <td>7.9250</td>\n",
       "    </tr>\n",
       "    <tr>\n",
       "      <th>3</th>\n",
       "      <td>1</td>\n",
       "      <td>0</td>\n",
       "      <td>35.0</td>\n",
       "      <td>1</td>\n",
       "      <td>0</td>\n",
       "      <td>53.1000</td>\n",
       "    </tr>\n",
       "    <tr>\n",
       "      <th>4</th>\n",
       "      <td>3</td>\n",
       "      <td>1</td>\n",
       "      <td>35.0</td>\n",
       "      <td>0</td>\n",
       "      <td>0</td>\n",
       "      <td>8.0500</td>\n",
       "    </tr>\n",
       "  </tbody>\n",
       "</table>\n",
       "</div>"
      ],
      "text/plain": [
       "   Pclass  Sex   Age  SibSp  Parch     Fare\n",
       "0       3    1  22.0      1      0   7.2500\n",
       "1       1    0  38.0      1      0  71.2833\n",
       "2       3    0  26.0      0      0   7.9250\n",
       "3       1    0  35.0      1      0  53.1000\n",
       "4       3    1  35.0      0      0   8.0500"
      ]
     },
     "execution_count": 23,
     "metadata": {},
     "output_type": "execute_result"
    }
   ],
   "source": [
    "X.head()"
   ]
  },
  {
   "cell_type": "code",
   "execution_count": 24,
   "id": "ddbe9bd5",
   "metadata": {},
   "outputs": [
    {
     "data": {
      "text/plain": [
       "0    0\n",
       "1    1\n",
       "Name: Survived, dtype: int64"
      ]
     },
     "execution_count": 24,
     "metadata": {},
     "output_type": "execute_result"
    }
   ],
   "source": [
    "y.head(2)"
   ]
  },
  {
   "cell_type": "code",
   "execution_count": 25,
   "id": "61105bbe",
   "metadata": {},
   "outputs": [],
   "source": [
    "X_train,X_test,y_train,y_test=train_test_split(X,y,test_size=0.30,random_state=1,stratify=y)\n"
   ]
  },
  {
   "cell_type": "code",
   "execution_count": 26,
   "id": "b22f5582",
   "metadata": {},
   "outputs": [],
   "source": [
    "dt_model = DecisionTreeClassifier()\n",
    "dt_model.fit(X_train,y_train)\n",
    "\n",
    "ytrain_pred= dt_model.predict(X_train)\n",
    "ytest_pred = dt_model.predict(X_test)"
   ]
  },
  {
   "cell_type": "code",
   "execution_count": 27,
   "id": "5e738c48",
   "metadata": {},
   "outputs": [],
   "source": [
    "\n",
    "train_char_label = ['No', 'Yes']\n",
    "ld_Tree_File = open('ld_Tree_File.dot','w')\n",
    "dot_data = tree.export_graphviz(dt_model, \n",
    "                                out_file=ld_Tree_File, \n",
    "                                feature_names = list(X_train), \n",
    "                                class_names = list(train_char_label))\n",
    "\n",
    "ld_Tree_File.close()"
   ]
  },
  {
   "cell_type": "code",
   "execution_count": 28,
   "id": "8e050444",
   "metadata": {},
   "outputs": [],
   "source": [
    "reg_dt_model = DecisionTreeClassifier(criterion='gini',max_depth=8,min_samples_leaf=10,min_samples_split=30)"
   ]
  },
  {
   "cell_type": "code",
   "execution_count": 29,
   "id": "19a86a9b",
   "metadata": {},
   "outputs": [
    {
     "data": {
      "text/plain": [
       "DecisionTreeClassifier(max_depth=8, min_samples_leaf=10, min_samples_split=30)"
      ]
     },
     "execution_count": 29,
     "metadata": {},
     "output_type": "execute_result"
    }
   ],
   "source": [
    "reg_dt_model.fit(X_train,y_train)"
   ]
  },
  {
   "cell_type": "code",
   "execution_count": 30,
   "id": "d69b3f8b",
   "metadata": {},
   "outputs": [],
   "source": [
    "train_char_label = ['No', 'Yes']\n",
    "reg_Tree_File= open('reg_Tree_File.dot','w')\n",
    "dot_data = tree.export_graphviz(reg_dt_model, \n",
    "                                out_file=reg_Tree_File, \n",
    "                                feature_names = list(X_train), \n",
    "                                class_names = list(train_char_label))\n",
    "\n",
    "reg_Tree_File.close()"
   ]
  },
  {
   "cell_type": "code",
   "execution_count": 31,
   "id": "d7f86a48",
   "metadata": {},
   "outputs": [
    {
     "data": {
      "text/plain": [
       "[Text(428.83333333333337, 1026.8, 'X[1] <= 0.5\\ngini = 0.473\\nsamples = 623\\nvalue = [384, 239]'),\n",
       " Text(206.66666666666669, 906.0, 'X[0] <= 2.5\\ngini = 0.393\\nsamples = 220\\nvalue = [59, 161]'),\n",
       " Text(124.0, 785.2, 'X[5] <= 141.077\\ngini = 0.083\\nsamples = 115\\nvalue = [5, 110]'),\n",
       " Text(82.66666666666667, 664.4, 'X[2] <= 37.0\\ngini = 0.056\\nsamples = 105\\nvalue = [3, 102]'),\n",
       " Text(41.333333333333336, 543.6, 'gini = 0.0\\nsamples = 74\\nvalue = [0, 74]'),\n",
       " Text(124.0, 543.6, 'X[5] <= 26.125\\ngini = 0.175\\nsamples = 31\\nvalue = [3, 28]'),\n",
       " Text(82.66666666666667, 422.79999999999995, 'gini = 0.397\\nsamples = 11\\nvalue = [3, 8]'),\n",
       " Text(165.33333333333334, 422.79999999999995, 'gini = 0.0\\nsamples = 20\\nvalue = [0, 20]'),\n",
       " Text(165.33333333333334, 664.4, 'gini = 0.32\\nsamples = 10\\nvalue = [2, 8]'),\n",
       " Text(289.33333333333337, 785.2, 'X[5] <= 7.888\\ngini = 0.5\\nsamples = 105\\nvalue = [54, 51]'),\n",
       " Text(248.0, 664.4, 'gini = 0.337\\nsamples = 28\\nvalue = [6, 22]'),\n",
       " Text(330.6666666666667, 664.4, 'X[2] <= 5.5\\ngini = 0.47\\nsamples = 77\\nvalue = [48, 29]'),\n",
       " Text(289.33333333333337, 543.6, 'gini = 0.298\\nsamples = 11\\nvalue = [2, 9]'),\n",
       " Text(372.0, 543.6, 'X[5] <= 24.808\\ngini = 0.422\\nsamples = 66\\nvalue = [46, 20]'),\n",
       " Text(330.6666666666667, 422.79999999999995, 'X[2] <= 26.5\\ngini = 0.47\\nsamples = 53\\nvalue = [33, 20]'),\n",
       " Text(289.33333333333337, 302.0, 'gini = 0.208\\nsamples = 17\\nvalue = [15, 2]'),\n",
       " Text(372.0, 302.0, 'X[5] <= 14.873\\ngini = 0.5\\nsamples = 36\\nvalue = [18, 18]'),\n",
       " Text(330.6666666666667, 181.19999999999993, 'gini = 0.43\\nsamples = 16\\nvalue = [11, 5]'),\n",
       " Text(413.33333333333337, 181.19999999999993, 'gini = 0.455\\nsamples = 20\\nvalue = [7, 13]'),\n",
       " Text(413.33333333333337, 422.79999999999995, 'gini = 0.0\\nsamples = 13\\nvalue = [13, 0]'),\n",
       " Text(651.0, 906.0, 'X[2] <= 6.5\\ngini = 0.312\\nsamples = 403\\nvalue = [325, 78]'),\n",
       " Text(609.6666666666667, 785.2, 'gini = 0.42\\nsamples = 20\\nvalue = [6, 14]'),\n",
       " Text(692.3333333333334, 785.2, 'X[0] <= 1.5\\ngini = 0.278\\nsamples = 383\\nvalue = [319, 64]'),\n",
       " Text(578.6666666666667, 664.4, 'X[2] <= 43.0\\ngini = 0.475\\nsamples = 85\\nvalue = [52, 33]'),\n",
       " Text(537.3333333333334, 543.6, 'X[2] <= 34.0\\ngini = 0.5\\nsamples = 57\\nvalue = [29, 28]'),\n",
       " Text(496.0, 422.79999999999995, 'X[2] <= 27.5\\ngini = 0.489\\nsamples = 40\\nvalue = [23, 17]'),\n",
       " Text(454.6666666666667, 302.0, 'gini = 0.492\\nsamples = 16\\nvalue = [7, 9]'),\n",
       " Text(537.3333333333334, 302.0, 'gini = 0.444\\nsamples = 24\\nvalue = [16, 8]'),\n",
       " Text(578.6666666666667, 422.79999999999995, 'gini = 0.457\\nsamples = 17\\nvalue = [6, 11]'),\n",
       " Text(620.0, 543.6, 'gini = 0.293\\nsamples = 28\\nvalue = [23, 5]'),\n",
       " Text(806.0, 664.4, 'X[0] <= 2.5\\ngini = 0.186\\nsamples = 298\\nvalue = [267, 31]'),\n",
       " Text(702.6666666666667, 543.6, 'X[5] <= 13.25\\ngini = 0.087\\nsamples = 66\\nvalue = [63, 3]'),\n",
       " Text(661.3333333333334, 422.79999999999995, 'X[2] <= 33.5\\ngini = 0.142\\nsamples = 39\\nvalue = [36, 3]'),\n",
       " Text(620.0, 302.0, 'gini = 0.071\\nsamples = 27\\nvalue = [26, 1]'),\n",
       " Text(702.6666666666667, 302.0, 'gini = 0.278\\nsamples = 12\\nvalue = [10, 2]'),\n",
       " Text(744.0, 422.79999999999995, 'gini = 0.0\\nsamples = 27\\nvalue = [27, 0]'),\n",
       " Text(909.3333333333334, 543.6, 'X[5] <= 7.91\\ngini = 0.212\\nsamples = 232\\nvalue = [204, 28]'),\n",
       " Text(826.6666666666667, 422.79999999999995, 'X[2] <= 29.5\\ngini = 0.131\\nsamples = 114\\nvalue = [106, 8]'),\n",
       " Text(785.3333333333334, 302.0, 'X[5] <= 7.24\\ngini = 0.172\\nsamples = 84\\nvalue = [76, 8]'),\n",
       " Text(744.0, 181.19999999999993, 'gini = 0.269\\nsamples = 25\\nvalue = [21, 4]'),\n",
       " Text(826.6666666666667, 181.19999999999993, 'X[2] <= 27.0\\ngini = 0.126\\nsamples = 59\\nvalue = [55, 4]'),\n",
       " Text(785.3333333333334, 60.399999999999864, 'gini = 0.0\\nsamples = 28\\nvalue = [28, 0]'),\n",
       " Text(868.0, 60.399999999999864, 'gini = 0.225\\nsamples = 31\\nvalue = [27, 4]'),\n",
       " Text(868.0, 302.0, 'gini = 0.0\\nsamples = 30\\nvalue = [30, 0]'),\n",
       " Text(992.0, 422.79999999999995, 'X[5] <= 7.988\\ngini = 0.282\\nsamples = 118\\nvalue = [98, 20]'),\n",
       " Text(950.6666666666667, 302.0, 'gini = 0.496\\nsamples = 11\\nvalue = [6, 5]'),\n",
       " Text(1033.3333333333335, 302.0, 'X[3] <= 1.5\\ngini = 0.241\\nsamples = 107\\nvalue = [92, 15]'),\n",
       " Text(992.0, 181.19999999999993, 'X[2] <= 20.5\\ngini = 0.278\\nsamples = 90\\nvalue = [75, 15]'),\n",
       " Text(950.6666666666667, 60.399999999999864, 'gini = 0.469\\nsamples = 16\\nvalue = [10, 6]'),\n",
       " Text(1033.3333333333335, 60.399999999999864, 'gini = 0.214\\nsamples = 74\\nvalue = [65, 9]'),\n",
       " Text(1074.6666666666667, 181.19999999999993, 'gini = 0.0\\nsamples = 17\\nvalue = [17, 0]')]"
      ]
     },
     "execution_count": 31,
     "metadata": {},
     "output_type": "execute_result"
    },
    {
     "data": {
      "image/png": "[encoded data removed]",
      "text/plain": [
       "<Figure size 1440x1440 with 1 Axes>"
      ]
     },
     "metadata": {
      "needs_background": "light"
     },
     "output_type": "display_data"
    }
   ],
   "source": [
    "plt.figure(figsize=(20,20))\n",
    "tree.plot_tree(reg_dt_model,filled=True)"
   ]
  },
  {
   "cell_type": "code",
   "execution_count": 32,
   "id": "f7732572",
   "metadata": {},
   "outputs": [
    {
     "data": {
      "text/html": [
       "<div>\n",
       "<style scoped>\n",
       "    .dataframe tbody tr th:only-of-type {\n",
       "        vertical-align: middle;\n",
       "    }\n",
       "\n",
       "    .dataframe tbody tr th {\n",
       "        vertical-align: top;\n",
       "    }\n",
       "\n",
       "    .dataframe thead th {\n",
       "        text-align: right;\n",
       "    }\n",
       "</style>\n",
       "<table border=\"1\" class=\"dataframe\">\n",
       "  <thead>\n",
       "    <tr style=\"text-align: right;\">\n",
       "      <th></th>\n",
       "      <th>Imp</th>\n",
       "    </tr>\n",
       "  </thead>\n",
       "  <tbody>\n",
       "    <tr>\n",
       "      <th>Pclass</th>\n",
       "      <td>0.216766</td>\n",
       "    </tr>\n",
       "    <tr>\n",
       "      <th>Sex</th>\n",
       "      <td>0.502151</td>\n",
       "    </tr>\n",
       "    <tr>\n",
       "      <th>Age</th>\n",
       "      <td>0.172328</td>\n",
       "    </tr>\n",
       "    <tr>\n",
       "      <th>SibSp</th>\n",
       "      <td>0.004837</td>\n",
       "    </tr>\n",
       "    <tr>\n",
       "      <th>Parch</th>\n",
       "      <td>0.000000</td>\n",
       "    </tr>\n",
       "    <tr>\n",
       "      <th>Fare</th>\n",
       "      <td>0.103918</td>\n",
       "    </tr>\n",
       "  </tbody>\n",
       "</table>\n",
       "</div>"
      ],
      "text/plain": [
       "             Imp\n",
       "Pclass  0.216766\n",
       "Sex     0.502151\n",
       "Age     0.172328\n",
       "SibSp   0.004837\n",
       "Parch   0.000000\n",
       "Fare    0.103918"
      ]
     },
     "execution_count": 32,
     "metadata": {},
     "output_type": "execute_result"
    }
   ],
   "source": [
    "feature_imp = pd.DataFrame(reg_dt_model.feature_importances_,columns=['Imp'],index=X_train.columns)\n",
    "feature_imp"
   ]
  },
  {
   "cell_type": "code",
   "execution_count": 33,
   "id": "1e8c97ec",
   "metadata": {},
   "outputs": [
    {
     "data": {
      "text/plain": [
       "<AxesSubplot:>"
      ]
     },
     "execution_count": 33,
     "metadata": {},
     "output_type": "execute_result"
    },
    {
     "data": {
      "image/png": "[encoded data removed]",
      "text/plain": [
       "<Figure size 432x288 with 1 Axes>"
      ]
     },
     "metadata": {
      "needs_background": "light"
     },
     "output_type": "display_data"
    }
   ],
   "source": [
    "#feature_imp.sort_values(ascending=False).plot(kind = 'barh')\n",
    "feature_imp.sort_values(ascending=False,by=['Imp']).plot(kind = 'barh')"
   ]
  },
  {
   "cell_type": "code",
   "execution_count": 34,
   "id": "2e92bad0",
   "metadata": {},
   "outputs": [],
   "source": [
    "ytrain_pred1 = reg_dt_model.predict(X_train)\n",
    "ytest_pred1 = reg_dt_model.predict(X_test)"
   ]
  },
  {
   "cell_type": "code",
   "execution_count": 35,
   "id": "a117fb73",
   "metadata": {},
   "outputs": [],
   "source": [
    "ytrain_pred2 = reg_dt_model.predict_proba(X_train)\n",
    "ytest_pred2 = reg_dt_model.predict_proba(X_test)"
   ]
  },
  {
   "cell_type": "code",
   "execution_count": 36,
   "id": "ed07a257",
   "metadata": {},
   "outputs": [
    {
     "data": {
      "text/plain": [
       "array([1.        , 0.        , 0.        , 0.12162162, 0.7       ,\n",
       "       0.12162162, 0.375     , 0.5625    , 0.45454545, 1.        ,\n",
       "       1.        , 0.12162162, 0.12162162, 0.16666667, 0.7       ,\n",
       "       0.12162162, 0.03703704, 0.375     , 0.12162162, 0.3125    ,\n",
       "       0.        , 0.7       , 0.33333333, 1.        , 0.16      ,\n",
       "       1.        , 0.64705882, 0.        , 1.        , 0.12162162,\n",
       "       0.12162162, 0.65      , 0.        , 0.72727273, 0.12162162,\n",
       "       0.11764706, 1.        , 0.        , 0.33333333, 0.17857143,\n",
       "       0.12162162, 0.        , 0.17857143, 0.17857143, 1.        ,\n",
       "       0.8       , 0.78571429, 0.03703704, 0.33333333, 1.        ,\n",
       "       1.        , 0.12162162, 0.        , 0.17857143, 0.16666667,\n",
       "       0.        , 0.78571429, 0.        , 0.7       , 1.        ,\n",
       "       0.17857143, 0.12903226, 0.45454545, 0.16666667, 0.5625    ,\n",
       "       0.        , 0.        , 0.64705882, 1.        , 0.12162162,\n",
       "       0.11764706, 0.        , 0.        , 1.        , 1.        ,\n",
       "       0.65      , 0.33333333, 0.33333333, 0.12162162, 1.        ,\n",
       "       0.16      , 0.12162162, 0.3125    , 0.7       , 0.03703704,\n",
       "       0.12162162, 0.12162162, 0.11764706, 1.        , 0.        ,\n",
       "       0.45454545, 0.03703704, 0.81818182, 1.        , 0.7       ,\n",
       "       0.65      , 0.8       , 0.03703704, 0.        , 0.375     ,\n",
       "       0.33333333, 0.16      , 0.        , 1.        , 0.33333333,\n",
       "       0.65      , 0.12162162, 0.65      , 0.03703704, 0.64705882,\n",
       "       0.11764706, 0.        , 0.5625    , 0.78571429, 0.33333333,\n",
       "       0.78571429, 1.        , 1.        , 0.17857143, 0.16666667,\n",
       "       0.78571429, 0.12903226, 0.12903226, 0.        , 0.12903226,\n",
       "       0.33333333, 0.78571429, 1.        , 1.        , 1.        ,\n",
       "       0.64705882, 0.16      , 0.        , 0.        , 0.3125    ,\n",
       "       0.        , 1.        , 0.12162162, 0.03703704, 0.78571429,\n",
       "       0.16      , 0.12903226, 0.        , 0.        , 0.33333333,\n",
       "       0.12162162, 0.33333333, 0.81818182, 0.78571429, 0.        ,\n",
       "       0.12162162, 0.12162162, 1.        , 1.        , 0.        ,\n",
       "       0.81818182, 0.12903226, 0.16      , 0.16      , 0.45454545,\n",
       "       1.        , 0.65      , 0.        , 0.11764706, 1.        ,\n",
       "       0.        , 0.03703704, 0.33333333, 0.        , 0.33333333,\n",
       "       0.        , 0.375     , 0.        , 0.78571429, 0.12903226,\n",
       "       0.17857143, 0.03703704, 1.        , 0.12162162, 1.        ,\n",
       "       1.        , 0.16      , 0.03703704, 0.        , 0.11764706,\n",
       "       0.64705882, 0.375     , 0.12903226, 0.16      , 0.5625    ,\n",
       "       0.03703704, 0.72727273, 0.12903226, 0.81818182, 0.78571429,\n",
       "       1.        , 0.72727273, 0.64705882, 0.64705882, 0.33333333,\n",
       "       0.        , 0.17857143, 0.64705882, 0.81818182, 0.        ,\n",
       "       0.17857143, 0.64705882, 1.        , 0.3125    , 1.        ,\n",
       "       0.12903226, 0.3125    , 0.        , 0.12162162, 0.12162162,\n",
       "       1.        , 0.3125    , 0.        , 0.7       , 0.8       ,\n",
       "       0.17857143, 1.        , 0.11764706, 0.45454545, 0.        ,\n",
       "       0.12162162, 0.64705882, 0.        , 0.        , 0.78571429,\n",
       "       0.16      , 0.12162162, 0.12162162, 0.16      , 0.45454545,\n",
       "       0.12903226, 0.        , 0.12903226, 0.17857143, 0.78571429,\n",
       "       0.3125    , 1.        , 0.17857143, 1.        , 0.        ,\n",
       "       0.16      , 0.        , 0.        , 0.17857143, 1.        ,\n",
       "       0.17857143, 0.12162162, 0.72727273, 0.5625    , 0.7       ,\n",
       "       0.45454545, 0.64705882, 0.65      , 0.72727273, 0.17857143,\n",
       "       0.16      , 0.        , 1.        , 0.8       , 0.375     ,\n",
       "       1.        , 0.78571429, 0.        , 0.17857143, 0.64705882,\n",
       "       1.        , 0.78571429, 0.12162162, 0.16      , 0.16      ,\n",
       "       1.        , 0.        , 0.5625    , 0.65      , 0.12162162,\n",
       "       0.17857143, 0.        , 0.        , 0.        , 0.65      ,\n",
       "       0.17857143, 0.78571429, 0.        , 1.        , 0.78571429,\n",
       "       0.16666667, 0.        , 0.12162162, 0.12903226, 0.12903226,\n",
       "       0.        , 0.78571429, 0.11764706, 0.12903226, 0.12162162,\n",
       "       0.5625    , 0.        , 0.        , 0.16666667, 0.78571429,\n",
       "       0.12903226, 0.8       , 1.        , 1.        , 0.        ,\n",
       "       0.3125    , 1.        , 0.        , 1.        , 1.        ,\n",
       "       0.16      , 0.78571429, 0.        , 1.        , 0.78571429,\n",
       "       0.03703704, 0.375     , 0.375     , 0.12162162, 0.        ,\n",
       "       0.        , 0.        , 0.7       , 0.03703704, 0.78571429,\n",
       "       0.65      , 0.03703704, 0.12162162, 1.        , 0.12162162,\n",
       "       0.        , 0.375     , 0.33333333, 0.16666667, 0.375     ,\n",
       "       0.11764706, 0.12162162, 0.17857143, 0.12903226, 0.11764706,\n",
       "       1.        , 0.        , 0.64705882, 0.        , 0.8       ,\n",
       "       0.12162162, 0.12903226, 0.65      , 0.16      , 1.        ,\n",
       "       1.        , 0.12162162, 0.65      , 0.        , 0.5625    ,\n",
       "       0.12162162, 0.        , 0.        , 1.        , 0.16      ,\n",
       "       0.        , 0.3125    , 0.        , 0.12162162, 0.33333333,\n",
       "       0.        , 0.5625    , 0.03703704, 1.        , 0.12903226,\n",
       "       0.        , 0.78571429, 0.        , 0.03703704, 0.65      ,\n",
       "       0.72727273, 0.        , 0.12162162, 0.12162162, 0.12162162,\n",
       "       0.65      , 1.        , 0.16      , 0.11764706, 0.        ,\n",
       "       1.        , 0.        , 1.        , 0.        , 0.12162162,\n",
       "       0.12162162, 1.        , 0.        , 0.        , 0.17857143,\n",
       "       0.        , 0.81818182, 0.12162162, 1.        , 0.17857143,\n",
       "       1.        , 1.        , 0.12162162, 1.        , 0.33333333,\n",
       "       0.        , 0.03703704, 0.03703704, 0.375     , 1.        ,\n",
       "       0.        , 0.12162162, 0.12162162, 1.        , 0.17857143,\n",
       "       0.17857143, 0.16      , 0.17857143, 1.        , 1.        ,\n",
       "       0.12162162, 0.8       , 0.03703704, 0.375     , 0.5625    ,\n",
       "       0.12162162, 0.5625    , 0.3125    , 0.        , 0.7       ,\n",
       "       0.12162162, 0.12903226, 1.        , 0.12903226, 0.11764706,\n",
       "       1.        , 0.78571429, 0.81818182, 0.65      , 0.        ,\n",
       "       0.81818182, 0.12162162, 0.        , 1.        , 0.64705882,\n",
       "       0.7       , 1.        , 0.17857143, 0.17857143, 0.        ,\n",
       "       0.        , 0.33333333, 0.        , 0.65      , 0.64705882,\n",
       "       0.        , 0.        , 0.7       , 0.5625    , 0.        ,\n",
       "       0.16      , 0.45454545, 0.7       , 0.375     , 0.        ,\n",
       "       0.7       , 0.65      , 0.12903226, 1.        , 0.7       ,\n",
       "       0.        , 0.        , 0.65      , 0.16666667, 1.        ,\n",
       "       0.3125    , 0.        , 0.03703704, 0.72727273, 0.33333333,\n",
       "       0.45454545, 0.17857143, 0.12162162, 0.03703704, 0.5625    ,\n",
       "       0.        , 1.        , 0.12162162, 0.12162162, 0.7       ,\n",
       "       1.        , 0.375     , 0.33333333, 0.16      , 0.17857143,\n",
       "       0.12162162, 0.        , 1.        , 0.11764706, 0.375     ,\n",
       "       1.        , 0.78571429, 0.12162162, 0.7       , 0.        ,\n",
       "       0.        , 0.5625    , 0.12162162, 0.        , 0.        ,\n",
       "       0.7       , 0.12903226, 0.        , 0.        , 1.        ,\n",
       "       1.        , 0.12903226, 0.        , 0.3125    , 0.12162162,\n",
       "       0.03703704, 0.3125    , 0.03703704, 0.12903226, 0.72727273,\n",
       "       0.375     , 0.16      , 1.        , 0.        , 1.        ,\n",
       "       0.16666667, 0.78571429, 0.        , 0.12162162, 0.45454545,\n",
       "       0.16      , 0.7       , 1.        , 0.16666667, 0.45454545,\n",
       "       0.78571429, 0.78571429, 1.        , 0.8       , 0.12162162,\n",
       "       0.12903226, 1.        , 0.3125    , 0.        , 0.11764706,\n",
       "       0.12903226, 0.16      , 0.12162162, 0.11764706, 0.5625    ,\n",
       "       0.72727273, 0.11764706, 1.        , 1.        , 0.03703704,\n",
       "       0.        , 0.12903226, 0.        , 0.7       , 0.81818182,\n",
       "       0.12162162, 0.12162162, 0.3125    , 0.3125    , 1.        ,\n",
       "       0.11764706, 0.12162162, 0.12162162, 0.12162162, 0.        ,\n",
       "       0.12903226, 0.        , 1.        , 0.81818182, 0.        ,\n",
       "       1.        , 0.03703704, 1.        , 0.12162162, 0.81818182,\n",
       "       0.        , 0.        , 0.64705882, 0.64705882, 0.        ,\n",
       "       0.72727273, 0.78571429, 0.33333333, 0.16666667, 0.33333333,\n",
       "       0.03703704, 0.12162162, 1.        , 0.33333333, 0.12162162,\n",
       "       0.        , 1.        , 0.5625    , 0.        , 0.12162162,\n",
       "       0.03703704, 0.65      , 0.12903226, 0.33333333, 1.        ,\n",
       "       0.8       , 0.12162162, 0.8       , 0.12903226, 0.65      ,\n",
       "       0.16666667, 0.72727273, 0.12162162])"
      ]
     },
     "execution_count": 36,
     "metadata": {},
     "output_type": "execute_result"
    }
   ],
   "source": [
    "# predict probabilities for train dataset\n",
    "probs_train = reg_dt_model.predict_proba(X_train)\n",
    "\n",
    "# keep probabilities for the positive outcome only\n",
    "probs_train = probs_train[:, 1]\n",
    "probs_train"
   ]
  },
  {
   "cell_type": "code",
   "execution_count": 37,
   "id": "a6b612c1",
   "metadata": {},
   "outputs": [
    {
     "name": "stdout",
     "output_type": "stream",
     "text": [
      "AUC: 0.923\n"
     ]
    }
   ],
   "source": [
    "# calculating auc for train dataset using probabilities\n",
    "auc_train = roc_auc_score(y_train,probs_train)\n",
    "print('AUC: %.3f' %auc_train)"
   ]
  },
  {
   "cell_type": "code",
   "execution_count": 38,
   "id": "b5813276",
   "metadata": {},
   "outputs": [
    {
     "data": {
      "text/plain": [
       "array([0.16      , 0.03703704, 0.        , 0.78571429, 0.33333333,\n",
       "       0.16666667, 0.12162162, 0.78571429, 1.        , 0.12903226,\n",
       "       0.03703704, 0.        , 1.        , 0.8       , 0.12903226,\n",
       "       0.16      , 0.11764706, 0.45454545, 0.16      , 0.375     ,\n",
       "       0.64705882, 0.        , 1.        , 0.11764706, 1.        ,\n",
       "       0.78571429, 0.12162162, 0.        , 0.375     , 0.12162162,\n",
       "       0.17857143, 0.72727273, 0.        , 0.17857143, 0.78571429,\n",
       "       0.16      , 0.12903226, 1.        , 0.        , 0.16      ,\n",
       "       0.33333333, 0.        , 0.17857143, 0.8       , 0.12162162,\n",
       "       0.17857143, 0.        , 0.        , 0.11764706, 0.        ,\n",
       "       1.        , 0.11764706, 0.        , 0.03703704, 0.        ,\n",
       "       0.78571429, 0.33333333, 0.3125    , 1.        , 0.        ,\n",
       "       0.16      , 1.        , 0.12162162, 1.        , 0.8       ,\n",
       "       0.78571429, 0.        , 1.        , 0.12162162, 0.        ,\n",
       "       0.12162162, 0.78571429, 0.12162162, 1.        , 0.17857143,\n",
       "       0.81818182, 1.        , 0.375     , 0.17857143, 0.        ,\n",
       "       0.375     , 1.        , 0.11764706, 0.        , 0.03703704,\n",
       "       0.        , 0.3125    , 0.03703704, 0.        , 0.12903226,\n",
       "       0.375     , 0.45454545, 0.78571429, 0.17857143, 0.78571429,\n",
       "       0.03703704, 0.33333333, 1.        , 0.12162162, 0.78571429,\n",
       "       0.33333333, 1.        , 0.        , 0.        , 1.        ,\n",
       "       1.        , 0.12162162, 1.        , 0.        , 0.16      ,\n",
       "       1.        , 0.        , 0.8       , 0.64705882, 0.81818182,\n",
       "       0.33333333, 0.16666667, 1.        , 0.        , 0.        ,\n",
       "       0.        , 0.12162162, 0.64705882, 0.8       , 0.        ,\n",
       "       0.12162162, 0.81818182, 1.        , 0.17857143, 0.16666667,\n",
       "       0.        , 0.12903226, 0.12903226, 0.16666667, 0.8       ,\n",
       "       0.72727273, 0.375     , 0.12162162, 0.16      , 0.78571429,\n",
       "       0.7       , 0.17857143, 0.17857143, 0.7       , 0.11764706,\n",
       "       0.17857143, 0.72727273, 0.        , 0.17857143, 0.12162162,\n",
       "       0.17857143, 0.8       , 0.12903226, 0.33333333, 0.12903226,\n",
       "       0.        , 0.17857143, 0.17857143, 0.16666667, 0.12903226,\n",
       "       0.3125    , 1.        , 0.16      , 0.        , 0.81818182,\n",
       "       1.        , 1.        , 1.        , 0.03703704, 0.12903226,\n",
       "       0.03703704, 0.03703704, 0.03703704, 1.        , 0.375     ,\n",
       "       0.        , 0.78571429, 0.12162162, 0.        , 0.8       ,\n",
       "       0.12903226, 0.7       , 0.11764706, 1.        , 0.        ,\n",
       "       0.16666667, 0.375     , 0.65      , 0.12903226, 0.12162162,\n",
       "       0.17857143, 0.        , 0.        , 1.        , 0.12162162,\n",
       "       0.33333333, 0.        , 0.        , 0.        , 1.        ,\n",
       "       0.        , 0.        , 0.12162162, 0.12162162, 1.        ,\n",
       "       0.11764706, 0.64705882, 0.16666667, 0.12903226, 0.12162162,\n",
       "       0.        , 0.78571429, 0.        , 0.78571429, 0.        ,\n",
       "       1.        , 0.5625    , 0.12162162, 0.17857143, 0.11764706,\n",
       "       0.        , 1.        , 0.        , 1.        , 0.        ,\n",
       "       0.8       , 0.03703704, 0.16      , 0.        , 0.16      ,\n",
       "       0.375     , 0.375     , 0.8       , 0.17857143, 0.33333333,\n",
       "       1.        , 0.72727273, 0.12162162, 0.8       , 0.12162162,\n",
       "       0.72727273, 0.375     , 0.12162162, 1.        , 1.        ,\n",
       "       1.        , 0.12162162, 0.12903226, 0.12162162, 0.        ,\n",
       "       0.12162162, 0.64705882, 0.16      , 1.        , 0.17857143,\n",
       "       0.        , 0.        , 0.        , 0.33333333, 0.11764706,\n",
       "       0.12162162, 0.        , 1.        , 0.12162162, 0.12162162,\n",
       "       0.7       , 0.03703704, 0.12903226])"
      ]
     },
     "execution_count": 38,
     "metadata": {},
     "output_type": "execute_result"
    }
   ],
   "source": [
    "# predicting probabilities for test dataset\n",
    "probs_test  = reg_dt_model.predict_proba(X_test)\n",
    "probs_test = probs_test[:,1]\n",
    "probs_test"
   ]
  },
  {
   "cell_type": "code",
   "execution_count": 39,
   "id": "ffff476f",
   "metadata": {},
   "outputs": [
    {
     "name": "stdout",
     "output_type": "stream",
     "text": [
      "AUC: 0.773\n"
     ]
    }
   ],
   "source": [
    "# calculate AUC for test dataset\n",
    "\n",
    "auc_test = roc_auc_score(y_test, probs_test)\n",
    "print('AUC: %.3f' % auc_test)\n"
   ]
  },
  {
   "cell_type": "code",
   "execution_count": 40,
   "id": "a5cc4004",
   "metadata": {},
   "outputs": [
    {
     "data": {
      "image/png": "[encoded data removed]",
      "text/plain": [
       "<Figure size 432x288 with 1 Axes>"
      ]
     },
     "metadata": {
      "needs_background": "light"
     },
     "output_type": "display_data"
    }
   ],
   "source": [
    "# calculate roc curve for train dataset\n",
    "\n",
    "fpr, tpr, thresholds = roc_curve(y_train, probs_train)\n",
    "plt.plot([0, 1], [0, 1], linestyle='--')\n",
    "\n",
    "# plot the roc curve for the model\n",
    "plt.plot(fpr, tpr, marker='.')\n",
    "\n",
    "# show the plot\n",
    "plt.show()"
   ]
  },
  {
   "cell_type": "code",
   "execution_count": 41,
   "id": "b989586c",
   "metadata": {},
   "outputs": [
    {
     "data": {
      "image/png": "[encoded data removed]",
      "text/plain": [
       "<Figure size 432x288 with 1 Axes>"
      ]
     },
     "metadata": {
      "needs_background": "light"
     },
     "output_type": "display_data"
    }
   ],
   "source": [
    "# calculate roc curve for test dataset\n",
    "\n",
    "fpr1, tpr1, thresholds1 = roc_curve(y_test, probs_test)\n",
    "plt.plot([0, 1], [0, 1], linestyle='--')\n",
    "\n",
    "# plot the roc curve for the model\n",
    "plt.plot(fpr1, tpr1, marker='.')\n",
    "\n",
    "# show the plot\n",
    "plt.show()"
   ]
  },
  {
   "cell_type": "code",
   "execution_count": 42,
   "id": "10c33165",
   "metadata": {},
   "outputs": [
    {
     "name": "stdout",
     "output_type": "stream",
     "text": [
      "              precision    recall  f1-score   support\n",
      "\n",
      "           0       0.87      0.90      0.88       384\n",
      "           1       0.83      0.79      0.81       239\n",
      "\n",
      "    accuracy                           0.86       623\n",
      "   macro avg       0.85      0.84      0.85       623\n",
      "weighted avg       0.85      0.86      0.85       623\n",
      "\n"
     ]
    }
   ],
   "source": [
    "print(classification_report(y_train,ytrain_pred1))"
   ]
  },
  {
   "cell_type": "code",
   "execution_count": 43,
   "id": "d09b5a1a",
   "metadata": {},
   "outputs": [
    {
     "name": "stdout",
     "output_type": "stream",
     "text": [
      "              precision    recall  f1-score   support\n",
      "\n",
      "           0       0.79      0.88      0.84       165\n",
      "           1       0.77      0.63      0.70       103\n",
      "\n",
      "    accuracy                           0.79       268\n",
      "   macro avg       0.78      0.76      0.77       268\n",
      "weighted avg       0.79      0.79      0.78       268\n",
      "\n"
     ]
    }
   ],
   "source": [
    "print(classification_report(y_test,ytest_pred1))"
   ]
  },
  {
   "cell_type": "code",
   "execution_count": 44,
   "id": "8ddc7d82",
   "metadata": {},
   "outputs": [
    {
     "data": {
      "text/plain": [
       "array([[345,  39],\n",
       "       [ 51, 188]], dtype=int64)"
      ]
     },
     "execution_count": 44,
     "metadata": {},
     "output_type": "execute_result"
    }
   ],
   "source": [
    "confusion_matrix(y_train,ytrain_pred1)"
   ]
  },
  {
   "cell_type": "code",
   "execution_count": 45,
   "id": "bdca0682",
   "metadata": {},
   "outputs": [
    {
     "data": {
      "text/html": [
       "<div>\n",
       "<style scoped>\n",
       "    .dataframe tbody tr th:only-of-type {\n",
       "        vertical-align: middle;\n",
       "    }\n",
       "\n",
       "    .dataframe tbody tr th {\n",
       "        vertical-align: top;\n",
       "    }\n",
       "\n",
       "    .dataframe thead th {\n",
       "        text-align: right;\n",
       "    }\n",
       "</style>\n",
       "<table border=\"1\" class=\"dataframe\">\n",
       "  <thead>\n",
       "    <tr style=\"text-align: right;\">\n",
       "      <th></th>\n",
       "      <th>Predicted Not-Survived</th>\n",
       "      <th>Predicted Survived</th>\n",
       "    </tr>\n",
       "  </thead>\n",
       "  <tbody>\n",
       "    <tr>\n",
       "      <th>Not-Survived</th>\n",
       "      <td>345</td>\n",
       "      <td>39</td>\n",
       "    </tr>\n",
       "    <tr>\n",
       "      <th>Survived</th>\n",
       "      <td>51</td>\n",
       "      <td>188</td>\n",
       "    </tr>\n",
       "  </tbody>\n",
       "</table>\n",
       "</div>"
      ],
      "text/plain": [
       "              Predicted Not-Survived  Predicted Survived\n",
       "Not-Survived                     345                  39\n",
       "Survived                          51                 188"
      ]
     },
     "execution_count": 45,
     "metadata": {},
     "output_type": "execute_result"
    }
   ],
   "source": [
    "# printing confision matrix\n",
    "pd.DataFrame(confusion_matrix(y_train,ytrain_pred1),\\\n",
    "            columns=[\"Predicted Not-Survived\", \"Predicted Survived\"],\\\n",
    "            index=[\"Not-Survived\",\"Survived\"] )"
   ]
  },
  {
   "cell_type": "code",
   "execution_count": 46,
   "id": "400b5e8c",
   "metadata": {},
   "outputs": [
    {
     "data": {
      "text/plain": [
       "<sklearn.metrics._plot.confusion_matrix.ConfusionMatrixDisplay at 0x209fbbb8df0>"
      ]
     },
     "execution_count": 46,
     "metadata": {},
     "output_type": "execute_result"
    },
    {
     "data": {
      "image/png": "[encoded data removed]",
      "text/plain": [
       "<Figure size 432x288 with 2 Axes>"
      ]
     },
     "metadata": {
      "needs_background": "light"
     },
     "output_type": "display_data"
    }
   ],
   "source": [
    "plot_confusion_matrix(reg_dt_model,X_train,y_train)"
   ]
  },
  {
   "cell_type": "code",
   "execution_count": 47,
   "id": "2a0bf257",
   "metadata": {},
   "outputs": [
    {
     "data": {
      "text/html": [
       "<div>\n",
       "<style scoped>\n",
       "    .dataframe tbody tr th:only-of-type {\n",
       "        vertical-align: middle;\n",
       "    }\n",
       "\n",
       "    .dataframe tbody tr th {\n",
       "        vertical-align: top;\n",
       "    }\n",
       "\n",
       "    .dataframe thead th {\n",
       "        text-align: right;\n",
       "    }\n",
       "</style>\n",
       "<table border=\"1\" class=\"dataframe\">\n",
       "  <thead>\n",
       "    <tr style=\"text-align: right;\">\n",
       "      <th></th>\n",
       "      <th>Predicted Not-Survived</th>\n",
       "      <th>Predicted Survived</th>\n",
       "    </tr>\n",
       "  </thead>\n",
       "  <tbody>\n",
       "    <tr>\n",
       "      <th>Not-Survived</th>\n",
       "      <td>146</td>\n",
       "      <td>19</td>\n",
       "    </tr>\n",
       "    <tr>\n",
       "      <th>Survived</th>\n",
       "      <td>38</td>\n",
       "      <td>65</td>\n",
       "    </tr>\n",
       "  </tbody>\n",
       "</table>\n",
       "</div>"
      ],
      "text/plain": [
       "              Predicted Not-Survived  Predicted Survived\n",
       "Not-Survived                     146                  19\n",
       "Survived                          38                  65"
      ]
     },
     "execution_count": 47,
     "metadata": {},
     "output_type": "execute_result"
    }
   ],
   "source": [
    "# printing confision matrix\n",
    "pd.DataFrame(confusion_matrix(y_test,ytest_pred1),\\\n",
    "            columns=[\"Predicted Not-Survived\", \"Predicted Survived\"],\\\n",
    "            index=[\"Not-Survived\",\"Survived\"] )"
   ]
  },
  {
   "cell_type": "code",
   "execution_count": 48,
   "id": "dd146d93",
   "metadata": {},
   "outputs": [
    {
     "data": {
      "text/plain": [
       "array([[146,  19],\n",
       "       [ 38,  65]], dtype=int64)"
      ]
     },
     "execution_count": 48,
     "metadata": {},
     "output_type": "execute_result"
    }
   ],
   "source": [
    "confusion_matrix(y_test,ytest_pred1)\n"
   ]
  },
  {
   "cell_type": "code",
   "execution_count": 49,
   "id": "caae3b2f",
   "metadata": {},
   "outputs": [
    {
     "data": {
      "text/plain": [
       "<sklearn.metrics._plot.confusion_matrix.ConfusionMatrixDisplay at 0x209fbc98f70>"
      ]
     },
     "execution_count": 49,
     "metadata": {},
     "output_type": "execute_result"
    },
    {
     "data": {
      "image/png": "[encoded data removed]",
      "text/plain": [
       "<Figure size 432x288 with 2 Axes>"
      ]
     },
     "metadata": {
      "needs_background": "light"
     },
     "output_type": "display_data"
    }
   ],
   "source": [
    "plot_confusion_matrix(reg_dt_model,X_test,y_test)"
   ]
  },
  {
   "cell_type": "code",
   "execution_count": 50,
   "id": "767f74a2",
   "metadata": {},
   "outputs": [
    {
     "data": {
      "text/plain": [
       "0.85553772070626"
      ]
     },
     "execution_count": 50,
     "metadata": {},
     "output_type": "execute_result"
    }
   ],
   "source": [
    "reg_dt_model.score(X_train,y_train)"
   ]
  },
  {
   "cell_type": "code",
   "execution_count": 51,
   "id": "eeb1c6ed",
   "metadata": {},
   "outputs": [
    {
     "data": {
      "text/plain": [
       "0.7873134328358209"
      ]
     },
     "execution_count": 51,
     "metadata": {},
     "output_type": "execute_result"
    }
   ],
   "source": [
    "reg_dt_model.score(X_test,y_test)"
   ]
  },
  {
   "cell_type": "markdown",
   "id": "28e97726",
   "metadata": {},
   "source": [
    "# Using ccp_alphas hyperparameter on dt.model to prune the model & check the accuracy score\n"
   ]
  },
  {
   "cell_type": "code",
   "execution_count": 53,
   "id": "f6d7e7f8",
   "metadata": {},
   "outputs": [],
   "source": [
    "path = dt_model.cost_complexity_pruning_path(X_train,y_train)"
   ]
  },
  {
   "cell_type": "code",
   "execution_count": 54,
   "id": "7475d87f",
   "metadata": {},
   "outputs": [],
   "source": [
    "ccp_alpha = path.ccp_alphas"
   ]
  },
  {
   "cell_type": "code",
   "execution_count": 55,
   "id": "0d1e39fa",
   "metadata": {},
   "outputs": [],
   "source": [
    "dt_model2=[]\n",
    "for ccp in ccp_alpha:\n",
    "    dt_m= DecisionTreeClassifier(ccp_alpha=ccp)\n",
    "    dt_m.fit(X_train,y_train)\n",
    "    dt_model2.append(dt_m)"
   ]
  },
  {
   "cell_type": "code",
   "execution_count": 56,
   "id": "4f9f11f1",
   "metadata": {},
   "outputs": [],
   "source": [
    "train_score = [i.score(X_train,y_train) for i in dt_model2]"
   ]
  },
  {
   "cell_type": "code",
   "execution_count": 57,
   "id": "3fe88292",
   "metadata": {},
   "outputs": [],
   "source": [
    "test_score = [i.score(X_test,y_test) for i in dt_model2]"
   ]
  },
  {
   "cell_type": "code",
   "execution_count": 59,
   "id": "69468f41",
   "metadata": {},
   "outputs": [
    {
     "data": {
      "text/plain": [
       "<matplotlib.legend.Legend at 0x209fda7fa60>"
      ]
     },
     "execution_count": 59,
     "metadata": {},
     "output_type": "execute_result"
    },
    {
     "data": {
      "image/png": "[encoded data removed]",
      "text/plain": [
       "<Figure size 432x288 with 1 Axes>"
      ]
     },
     "metadata": {
      "needs_background": "light"
     },
     "output_type": "display_data"
    }
   ],
   "source": [
    "fig,ax = plt.subplots()\n",
    "ax.set_xlabel(\"alpha\")\n",
    "ax.set_ylabel(\"accuracy\")\n",
    "ax.plot(ccp_alpha,train_score,marker='o',label = 'train')\n",
    "ax.plot(ccp_alpha,test_score,marker='o',label = 'test')\n",
    "ax.legend()"
   ]
  },
  {
   "cell_type": "code",
   "execution_count": 65,
   "id": "51c51624",
   "metadata": {},
   "outputs": [],
   "source": [
    "dt_model_ccp = DecisionTreeClassifier(ccp_alpha=0.0191)"
   ]
  },
  {
   "cell_type": "code",
   "execution_count": 67,
   "id": "4962a9fb",
   "metadata": {},
   "outputs": [
    {
     "data": {
      "text/plain": [
       "DecisionTreeClassifier(ccp_alpha=0.0191)"
      ]
     },
     "execution_count": 67,
     "metadata": {},
     "output_type": "execute_result"
    }
   ],
   "source": [
    "dt_model_ccp.fit(X_train,y_train)"
   ]
  },
  {
   "cell_type": "code",
   "execution_count": 68,
   "id": "2c8b8406",
   "metadata": {},
   "outputs": [
    {
     "data": {
      "text/plain": [
       "0.7849117174959872"
      ]
     },
     "execution_count": 68,
     "metadata": {},
     "output_type": "execute_result"
    }
   ],
   "source": [
    "dt_model_ccp.score(X_train,y_train)"
   ]
  },
  {
   "cell_type": "code",
   "execution_count": 69,
   "id": "294acef4",
   "metadata": {},
   "outputs": [
    {
     "data": {
      "text/plain": [
       "0.7910447761194029"
      ]
     },
     "execution_count": 69,
     "metadata": {},
     "output_type": "execute_result"
    }
   ],
   "source": [
    "dt_model_ccp.score(X_test,y_test)"
   ]
  },
  {
   "cell_type": "code",
   "execution_count": 70,
   "id": "c2de83b1",
   "metadata": {},
   "outputs": [
    {
     "data": {
      "text/plain": [
       "[Text(200.88000000000002, 181.2, 'X[1] <= 0.5\\ngini = 0.473\\nsamples = 623\\nvalue = [384, 239]'),\n",
       " Text(133.92000000000002, 108.72, 'X[0] <= 2.5\\ngini = 0.393\\nsamples = 220\\nvalue = [59, 161]'),\n",
       " Text(66.96000000000001, 36.23999999999998, 'gini = 0.083\\nsamples = 115\\nvalue = [5, 110]'),\n",
       " Text(200.88000000000002, 36.23999999999998, 'gini = 0.5\\nsamples = 105\\nvalue = [54, 51]'),\n",
       " Text(267.84000000000003, 108.72, 'gini = 0.312\\nsamples = 403\\nvalue = [325, 78]')]"
      ]
     },
     "execution_count": 70,
     "metadata": {},
     "output_type": "execute_result"
    },
    {
     "data": {
      "image/png": "[encoded data removed]",
      "text/plain": [
       "<Figure size 432x288 with 1 Axes>"
      ]
     },
     "metadata": {
      "needs_background": "light"
     },
     "output_type": "display_data"
    }
   ],
   "source": [
    "tree.plot_tree(dt_model_ccp,filled=True)"
   ]
  }
 ],
 "metadata": {
  "kernelspec": {
   "display_name": "Python 3",
   "language": "python",
   "name": "python3"
  },
  "language_info": {
   "codemirror_mode": {
    "name": "ipython",
    "version": 3
   },
   "file_extension": ".py",
   "mimetype": "text/x-python",
   "name": "python",
   "nbconvert_exporter": "python",
   "pygments_lexer": "ipython3",
   "version": "3.8.8"
  }
 },
 "nbformat": 4,
 "nbformat_minor": 5
}
